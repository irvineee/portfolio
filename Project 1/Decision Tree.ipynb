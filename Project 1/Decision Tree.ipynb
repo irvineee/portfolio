{
  "cells": [
    {
      "cell_type": "markdown",
      "id": "5deb0bf0",
      "metadata": {
        "id": "5deb0bf0"
      },
      "source": [
        "## Notebook description\n",
        "\n",
        "This notebook contains codes for:\n",
        "- Part 1: Class imbalance techniques - SMOTE, ADASYN, ENN, SMOTEENN, SMOTETomek\n",
        "- Part 2: Applying adaboost on the ENN-handled model\n",
        "- Part 3: Hyperparameter tune it"
      ]
    },
    {
      "cell_type": "code",
      "execution_count": 1,
      "id": "e1877896",
      "metadata": {
        "id": "e1877896"
      },
      "outputs": [],
      "source": [
        "from sklearn.svm import LinearSVC\n",
        "\n",
        "from sklearn.metrics import classification_report\n",
        "from sklearn.metrics import confusion_matrix\n",
        "from sklearn import metrics\n",
        "\n",
        "from collections import Counter\n",
        "from imblearn.over_sampling import SMOTE\n",
        "from imblearn.over_sampling import ADASYN\n",
        "from imblearn.under_sampling import EditedNearestNeighbours\n",
        "from imblearn.combine import SMOTEENN\n",
        "from imblearn.combine import SMOTETomek \n",
        "\n",
        "import pandas as pd\n",
        "import numpy as np\n",
        "\n",
        "from sklearn.preprocessing import RobustScaler\n",
        "from sklearn.model_selection import train_test_split\n",
        "from sklearn.preprocessing import RobustScaler\n",
        "from sklearn.preprocessing import StandardScaler\n",
        "from sklearn.decomposition import PCA\n",
        "\n",
        "from sklearn.ensemble import AdaBoostClassifier\n",
        "\n",
        "from sklearn.model_selection import GridSearchCV\n",
        "from sklearn.tree import DecisionTreeClassifier"
      ]
    },
    {
      "cell_type": "code",
      "execution_count": 2,
      "id": "42b41c58",
      "metadata": {
        "colab": {
          "base_uri": "https://localhost:8080/"
        },
        "id": "42b41c58",
        "outputId": "a466dea1-158b-491d-99b5-ae26ce67a64d"
      },
      "outputs": [
        {
          "output_type": "stream",
          "name": "stdout",
          "text": [
            "Mounted at /content/drive\n"
          ]
        }
      ],
      "source": [
        "#adjusting the working directory to correspond to individual file path \n",
        "# Load the Drive helper and mount\n",
        "from google.colab import drive\n",
        "# This will prompt for authorization.\n",
        "drive.mount('/content/drive')\n",
        "# After executing, drive files will be present in \"/content/drive/My Drive\"."
      ]
    },
    {
      "cell_type": "code",
      "execution_count": 3,
      "id": "a6edf392",
      "metadata": {
        "id": "a6edf392"
      },
      "outputs": [],
      "source": [
        "#Load the dataset\n",
        "df = pd.read_csv('/content/drive/My Drive/IS460/encoded_df.csv')"
      ]
    },
    {
      "cell_type": "code",
      "execution_count": 4,
      "id": "6a1522d7",
      "metadata": {
        "colab": {
          "base_uri": "https://localhost:8080/",
          "height": 285
        },
        "id": "6a1522d7",
        "outputId": "e0ba5d17-ebb2-497f-fdc9-42f804e4bc85"
      },
      "outputs": [
        {
          "output_type": "execute_result",
          "data": {
            "text/plain": [
              "   Loan Status  Current Loan Amount  Term  Credit Score  Annual Income  \\\n",
              "0            1             445412.0     1         709.0      1167493.0   \n",
              "1            1             262328.0     1         724.0      1174162.0   \n",
              "2            1           99999999.0     1         741.0      2231892.0   \n",
              "3            1             347666.0     0         721.0       806949.0   \n",
              "4            1             176220.0     1         724.0      1174162.0   \n",
              "\n",
              "   Years in current job  Home Ownership  Purpose  Monthly Debt  \\\n",
              "0                   8.0               1        5       5214.74   \n",
              "1                   1.0               1        3      33295.98   \n",
              "2                   8.0               2        3      29200.53   \n",
              "3                   3.0               2        3       8741.90   \n",
              "4                   5.0               3        3      20639.70   \n",
              "\n",
              "   Years of Credit History  Number of Open Accounts  \\\n",
              "0                     17.2                      6.0   \n",
              "1                     21.1                     35.0   \n",
              "2                     14.9                     18.0   \n",
              "3                     12.0                      9.0   \n",
              "4                      6.1                     15.0   \n",
              "\n",
              "   Number of Credit Problems  Current Credit Balance  Maximum Open Credit  \\\n",
              "0                        1.0                228190.0             416746.0   \n",
              "1                        0.0                229976.0             850784.0   \n",
              "2                        1.0                297996.0             750090.0   \n",
              "3                        0.0                256329.0             386958.0   \n",
              "4                        0.0                253460.0             427174.0   \n",
              "\n",
              "   Bankruptcies  Tax Liens  \n",
              "0           1.0        0.0  \n",
              "1           0.0        0.0  \n",
              "2           0.0        0.0  \n",
              "3           0.0        0.0  \n",
              "4           0.0        0.0  "
            ],
            "text/html": [
              "\n",
              "  <div id=\"df-0653b814-d37f-4895-8926-20d4c36bfbce\">\n",
              "    <div class=\"colab-df-container\">\n",
              "      <div>\n",
              "<style scoped>\n",
              "    .dataframe tbody tr th:only-of-type {\n",
              "        vertical-align: middle;\n",
              "    }\n",
              "\n",
              "    .dataframe tbody tr th {\n",
              "        vertical-align: top;\n",
              "    }\n",
              "\n",
              "    .dataframe thead th {\n",
              "        text-align: right;\n",
              "    }\n",
              "</style>\n",
              "<table border=\"1\" class=\"dataframe\">\n",
              "  <thead>\n",
              "    <tr style=\"text-align: right;\">\n",
              "      <th></th>\n",
              "      <th>Loan Status</th>\n",
              "      <th>Current Loan Amount</th>\n",
              "      <th>Term</th>\n",
              "      <th>Credit Score</th>\n",
              "      <th>Annual Income</th>\n",
              "      <th>Years in current job</th>\n",
              "      <th>Home Ownership</th>\n",
              "      <th>Purpose</th>\n",
              "      <th>Monthly Debt</th>\n",
              "      <th>Years of Credit History</th>\n",
              "      <th>Number of Open Accounts</th>\n",
              "      <th>Number of Credit Problems</th>\n",
              "      <th>Current Credit Balance</th>\n",
              "      <th>Maximum Open Credit</th>\n",
              "      <th>Bankruptcies</th>\n",
              "      <th>Tax Liens</th>\n",
              "    </tr>\n",
              "  </thead>\n",
              "  <tbody>\n",
              "    <tr>\n",
              "      <th>0</th>\n",
              "      <td>1</td>\n",
              "      <td>445412.0</td>\n",
              "      <td>1</td>\n",
              "      <td>709.0</td>\n",
              "      <td>1167493.0</td>\n",
              "      <td>8.0</td>\n",
              "      <td>1</td>\n",
              "      <td>5</td>\n",
              "      <td>5214.74</td>\n",
              "      <td>17.2</td>\n",
              "      <td>6.0</td>\n",
              "      <td>1.0</td>\n",
              "      <td>228190.0</td>\n",
              "      <td>416746.0</td>\n",
              "      <td>1.0</td>\n",
              "      <td>0.0</td>\n",
              "    </tr>\n",
              "    <tr>\n",
              "      <th>1</th>\n",
              "      <td>1</td>\n",
              "      <td>262328.0</td>\n",
              "      <td>1</td>\n",
              "      <td>724.0</td>\n",
              "      <td>1174162.0</td>\n",
              "      <td>1.0</td>\n",
              "      <td>1</td>\n",
              "      <td>3</td>\n",
              "      <td>33295.98</td>\n",
              "      <td>21.1</td>\n",
              "      <td>35.0</td>\n",
              "      <td>0.0</td>\n",
              "      <td>229976.0</td>\n",
              "      <td>850784.0</td>\n",
              "      <td>0.0</td>\n",
              "      <td>0.0</td>\n",
              "    </tr>\n",
              "    <tr>\n",
              "      <th>2</th>\n",
              "      <td>1</td>\n",
              "      <td>99999999.0</td>\n",
              "      <td>1</td>\n",
              "      <td>741.0</td>\n",
              "      <td>2231892.0</td>\n",
              "      <td>8.0</td>\n",
              "      <td>2</td>\n",
              "      <td>3</td>\n",
              "      <td>29200.53</td>\n",
              "      <td>14.9</td>\n",
              "      <td>18.0</td>\n",
              "      <td>1.0</td>\n",
              "      <td>297996.0</td>\n",
              "      <td>750090.0</td>\n",
              "      <td>0.0</td>\n",
              "      <td>0.0</td>\n",
              "    </tr>\n",
              "    <tr>\n",
              "      <th>3</th>\n",
              "      <td>1</td>\n",
              "      <td>347666.0</td>\n",
              "      <td>0</td>\n",
              "      <td>721.0</td>\n",
              "      <td>806949.0</td>\n",
              "      <td>3.0</td>\n",
              "      <td>2</td>\n",
              "      <td>3</td>\n",
              "      <td>8741.90</td>\n",
              "      <td>12.0</td>\n",
              "      <td>9.0</td>\n",
              "      <td>0.0</td>\n",
              "      <td>256329.0</td>\n",
              "      <td>386958.0</td>\n",
              "      <td>0.0</td>\n",
              "      <td>0.0</td>\n",
              "    </tr>\n",
              "    <tr>\n",
              "      <th>4</th>\n",
              "      <td>1</td>\n",
              "      <td>176220.0</td>\n",
              "      <td>1</td>\n",
              "      <td>724.0</td>\n",
              "      <td>1174162.0</td>\n",
              "      <td>5.0</td>\n",
              "      <td>3</td>\n",
              "      <td>3</td>\n",
              "      <td>20639.70</td>\n",
              "      <td>6.1</td>\n",
              "      <td>15.0</td>\n",
              "      <td>0.0</td>\n",
              "      <td>253460.0</td>\n",
              "      <td>427174.0</td>\n",
              "      <td>0.0</td>\n",
              "      <td>0.0</td>\n",
              "    </tr>\n",
              "  </tbody>\n",
              "</table>\n",
              "</div>\n",
              "      <button class=\"colab-df-convert\" onclick=\"convertToInteractive('df-0653b814-d37f-4895-8926-20d4c36bfbce')\"\n",
              "              title=\"Convert this dataframe to an interactive table.\"\n",
              "              style=\"display:none;\">\n",
              "        \n",
              "  <svg xmlns=\"http://www.w3.org/2000/svg\" height=\"24px\"viewBox=\"0 0 24 24\"\n",
              "       width=\"24px\">\n",
              "    <path d=\"M0 0h24v24H0V0z\" fill=\"none\"/>\n",
              "    <path d=\"M18.56 5.44l.94 2.06.94-2.06 2.06-.94-2.06-.94-.94-2.06-.94 2.06-2.06.94zm-11 1L8.5 8.5l.94-2.06 2.06-.94-2.06-.94L8.5 2.5l-.94 2.06-2.06.94zm10 10l.94 2.06.94-2.06 2.06-.94-2.06-.94-.94-2.06-.94 2.06-2.06.94z\"/><path d=\"M17.41 7.96l-1.37-1.37c-.4-.4-.92-.59-1.43-.59-.52 0-1.04.2-1.43.59L10.3 9.45l-7.72 7.72c-.78.78-.78 2.05 0 2.83L4 21.41c.39.39.9.59 1.41.59.51 0 1.02-.2 1.41-.59l7.78-7.78 2.81-2.81c.8-.78.8-2.07 0-2.86zM5.41 20L4 18.59l7.72-7.72 1.47 1.35L5.41 20z\"/>\n",
              "  </svg>\n",
              "      </button>\n",
              "      \n",
              "  <style>\n",
              "    .colab-df-container {\n",
              "      display:flex;\n",
              "      flex-wrap:wrap;\n",
              "      gap: 12px;\n",
              "    }\n",
              "\n",
              "    .colab-df-convert {\n",
              "      background-color: #E8F0FE;\n",
              "      border: none;\n",
              "      border-radius: 50%;\n",
              "      cursor: pointer;\n",
              "      display: none;\n",
              "      fill: #1967D2;\n",
              "      height: 32px;\n",
              "      padding: 0 0 0 0;\n",
              "      width: 32px;\n",
              "    }\n",
              "\n",
              "    .colab-df-convert:hover {\n",
              "      background-color: #E2EBFA;\n",
              "      box-shadow: 0px 1px 2px rgba(60, 64, 67, 0.3), 0px 1px 3px 1px rgba(60, 64, 67, 0.15);\n",
              "      fill: #174EA6;\n",
              "    }\n",
              "\n",
              "    [theme=dark] .colab-df-convert {\n",
              "      background-color: #3B4455;\n",
              "      fill: #D2E3FC;\n",
              "    }\n",
              "\n",
              "    [theme=dark] .colab-df-convert:hover {\n",
              "      background-color: #434B5C;\n",
              "      box-shadow: 0px 1px 3px 1px rgba(0, 0, 0, 0.15);\n",
              "      filter: drop-shadow(0px 1px 2px rgba(0, 0, 0, 0.3));\n",
              "      fill: #FFFFFF;\n",
              "    }\n",
              "  </style>\n",
              "\n",
              "      <script>\n",
              "        const buttonEl =\n",
              "          document.querySelector('#df-0653b814-d37f-4895-8926-20d4c36bfbce button.colab-df-convert');\n",
              "        buttonEl.style.display =\n",
              "          google.colab.kernel.accessAllowed ? 'block' : 'none';\n",
              "\n",
              "        async function convertToInteractive(key) {\n",
              "          const element = document.querySelector('#df-0653b814-d37f-4895-8926-20d4c36bfbce');\n",
              "          const dataTable =\n",
              "            await google.colab.kernel.invokeFunction('convertToInteractive',\n",
              "                                                     [key], {});\n",
              "          if (!dataTable) return;\n",
              "\n",
              "          const docLinkHtml = 'Like what you see? Visit the ' +\n",
              "            '<a target=\"_blank\" href=https://colab.research.google.com/notebooks/data_table.ipynb>data table notebook</a>'\n",
              "            + ' to learn more about interactive tables.';\n",
              "          element.innerHTML = '';\n",
              "          dataTable['output_type'] = 'display_data';\n",
              "          await google.colab.output.renderOutput(dataTable, element);\n",
              "          const docLink = document.createElement('div');\n",
              "          docLink.innerHTML = docLinkHtml;\n",
              "          element.appendChild(docLink);\n",
              "        }\n",
              "      </script>\n",
              "    </div>\n",
              "  </div>\n",
              "  "
            ]
          },
          "metadata": {},
          "execution_count": 4
        }
      ],
      "source": [
        "#view the first 5 rows of the dataframe \n",
        "df.head()"
      ]
    },
    {
      "cell_type": "code",
      "execution_count": 5,
      "id": "4a0c0808",
      "metadata": {
        "colab": {
          "base_uri": "https://localhost:8080/"
        },
        "id": "4a0c0808",
        "outputId": "5f427761-ed43-461c-8630-7f8730caf60a"
      },
      "outputs": [
        {
          "output_type": "execute_result",
          "data": {
            "text/plain": [
              "(92814, 16)"
            ]
          },
          "metadata": {},
          "execution_count": 5
        }
      ],
      "source": [
        "# Shape of df\n",
        "df.shape"
      ]
    },
    {
      "cell_type": "markdown",
      "id": "79eefd1b",
      "metadata": {
        "id": "79eefd1b"
      },
      "source": [
        "### Part 1 - Class imbalance techniques"
      ]
    },
    {
      "cell_type": "code",
      "execution_count": 6,
      "id": "9db8ccf0",
      "metadata": {
        "id": "9db8ccf0"
      },
      "outputs": [],
      "source": [
        "#Dropping 5 columns which have VIF > 5\n",
        "df1 = df.drop(['Annual Income', 'Number of Credit Problems', \n",
        "                     'Number of Open Accounts', 'Years of Credit History', \n",
        "                     'Current Credit Balance'], axis = 1)\n",
        "\n",
        "#dropping rows with 99999999.0 as value under Current Loan Amount column\n",
        "df1 = df1[df1[\"Current Loan Amount\"]!=99999999.0]"
      ]
    },
    {
      "cell_type": "code",
      "execution_count": 7,
      "id": "e3dd980e",
      "metadata": {
        "colab": {
          "base_uri": "https://localhost:8080/"
        },
        "id": "e3dd980e",
        "outputId": "28144980-0640-4613-8f0f-9c6f6837f2c3"
      },
      "outputs": [
        {
          "output_type": "execute_result",
          "data": {
            "text/plain": [
              "(82389, 11)"
            ]
          },
          "metadata": {},
          "execution_count": 7
        }
      ],
      "source": [
        "df1.shape"
      ]
    },
    {
      "cell_type": "code",
      "execution_count": 8,
      "id": "3128d52b",
      "metadata": {
        "id": "3128d52b"
      },
      "outputs": [],
      "source": [
        "#Set the target and features column\n",
        "y= df1[\"Loan Status\"]\n",
        "x = df1.drop([\"Loan Status\"],axis=1)"
      ]
    },
    {
      "cell_type": "code",
      "execution_count": 9,
      "id": "cec86d2b",
      "metadata": {
        "id": "cec86d2b"
      },
      "outputs": [],
      "source": [
        "# Split dataset into 80% train, 20% test\n",
        "x_train, x_test, y_train, y_test = train_test_split(x, y, test_size = 0.2, \n",
        "                                                          stratify = y, random_state = 42)\n",
        "\n",
        "#Standardising with Robust Scaler-- robust to outliers\n",
        "ro_scaler = RobustScaler()\n",
        "x_train = ro_scaler.fit_transform(x_train)\n",
        "x_test = ro_scaler.transform(x_test)"
      ]
    },
    {
      "cell_type": "markdown",
      "id": "0d3ed336",
      "metadata": {
        "id": "0d3ed336"
      },
      "source": [
        "Base model"
      ]
    },
    {
      "cell_type": "code",
      "execution_count": 10,
      "id": "1cf84d14",
      "metadata": {
        "colab": {
          "base_uri": "https://localhost:8080/"
        },
        "id": "1cf84d14",
        "outputId": "7b31645e-5573-4174-fecc-31943b4434ce"
      },
      "outputs": [
        {
          "output_type": "stream",
          "name": "stdout",
          "text": [
            "              precision    recall  f1-score   support\n",
            "\n",
            "           0       1.00      0.20      0.33      4308\n",
            "           1       0.78      1.00      0.88     12170\n",
            "\n",
            "    accuracy                           0.79     16478\n",
            "   macro avg       0.89      0.60      0.60     16478\n",
            "weighted avg       0.84      0.79      0.73     16478\n",
            "\n"
          ]
        }
      ],
      "source": [
        "# base model without class imbalance handling\n",
        "model=DecisionTreeClassifier(criterion=\"gini\",max_depth=5, random_state = 42)\n",
        "model.fit(x_train,y_train)\n",
        "y_pred=model.predict(x_test)\n",
        "\n",
        "report = classification_report(y_test, y_pred)\n",
        "\n",
        "#Get model performance\n",
        "print(report)"
      ]
    },
    {
      "cell_type": "markdown",
      "id": "f2033104",
      "metadata": {
        "id": "f2033104"
      },
      "source": [
        "SMOTE"
      ]
    },
    {
      "cell_type": "code",
      "execution_count": 11,
      "id": "7eae6384",
      "metadata": {
        "colab": {
          "base_uri": "https://localhost:8080/"
        },
        "id": "7eae6384",
        "outputId": "67e99f57-6e39-40e4-be66-adae3d794061"
      },
      "outputs": [
        {
          "output_type": "stream",
          "name": "stdout",
          "text": [
            "Before resampling:  Counter({1: 48677, 0: 17234})\n",
            "After resampling:  Counter({1: 48677, 0: 48677})\n"
          ]
        }
      ],
      "source": [
        "#SMOTE\n",
        "\n",
        "y= df1[\"Loan Status\"]\n",
        "x = df1.drop([\"Loan Status\"],axis=1)\n",
        "# Split dataset into 80% train, 20% test\n",
        "x_train, x_test, y_train, y_test = train_test_split(x, y, test_size = 0.2, \n",
        "                                                          stratify = y, random_state = 42)\n",
        "\n",
        "#Standardising with Robust Scaler-- robust to outliers\n",
        "ro_scaler = RobustScaler()\n",
        "x_train = ro_scaler.fit_transform(x_train)\n",
        "x_test = ro_scaler.transform(x_test)\n",
        "print(\"Before resampling: \", Counter(y_train))\n",
        "\n",
        "smote = SMOTE(random_state = 42)\n",
        "x_resampled, y_resampled = smote.fit_resample(x_train, y_train)\n",
        "\n",
        "print(\"After resampling: \", Counter(y_resampled))"
      ]
    },
    {
      "cell_type": "code",
      "execution_count": 12,
      "id": "f1f21841",
      "metadata": {
        "colab": {
          "base_uri": "https://localhost:8080/"
        },
        "id": "f1f21841",
        "outputId": "17e2ec89-d624-4e2c-bba2-3b1afdbe610d"
      },
      "outputs": [
        {
          "output_type": "stream",
          "name": "stdout",
          "text": [
            "              precision    recall  f1-score   support\n",
            "\n",
            "           0       0.54      0.35      0.43      4308\n",
            "           1       0.80      0.89      0.84     12170\n",
            "\n",
            "    accuracy                           0.75     16478\n",
            "   macro avg       0.67      0.62      0.63     16478\n",
            "weighted avg       0.73      0.75      0.73     16478\n",
            "\n"
          ]
        }
      ],
      "source": [
        "#initialise base classifier then fit resampled data into it\n",
        "model=DecisionTreeClassifier(criterion=\"gini\",max_depth=5, random_state = 42)\n",
        "model.fit(x_resampled,y_resampled)\n",
        "y_pred=model.predict(x_test)\n",
        "\n",
        "report = classification_report(y_test, y_pred)\n",
        "\n",
        "#Get model performance\n",
        "print(report)"
      ]
    },
    {
      "cell_type": "markdown",
      "id": "cfe35e47",
      "metadata": {
        "id": "cfe35e47"
      },
      "source": [
        "ADASYN"
      ]
    },
    {
      "cell_type": "code",
      "execution_count": 13,
      "id": "5d03d588",
      "metadata": {
        "colab": {
          "base_uri": "https://localhost:8080/"
        },
        "id": "5d03d588",
        "outputId": "13e6914e-7958-4ee9-d0e6-635675b3f249"
      },
      "outputs": [
        {
          "output_type": "stream",
          "name": "stdout",
          "text": [
            "Before resampling:  Counter({1: 48677, 0: 17234})\n",
            "After resampling:  Counter({1: 48677, 0: 46877})\n"
          ]
        }
      ],
      "source": [
        "#ADASYN\n",
        "\n",
        "y= df1[\"Loan Status\"]\n",
        "x = df1.drop([\"Loan Status\"],axis=1)\n",
        "# Split dataset into 80% train, 20% test\n",
        "x_train, x_test, y_train, y_test = train_test_split(x, y, test_size = 0.2, \n",
        "                                                          stratify = y, random_state = 42)\n",
        "\n",
        "#Standardising with Robust Scaler-- robust to outliers\n",
        "ro_scaler = RobustScaler()\n",
        "x_train = ro_scaler.fit_transform(x_train)\n",
        "x_test = ro_scaler.transform(x_test)\n",
        "\n",
        "print(\"Before resampling: \", Counter(y_train))\n",
        "\n",
        "adasyn = ADASYN(random_state=42)\n",
        "\n",
        "x_resampled, y_resampled = adasyn.fit_resample(x_train, y_train)\n",
        "\n",
        "print(\"After resampling: \", Counter(y_resampled))"
      ]
    },
    {
      "cell_type": "code",
      "execution_count": 14,
      "id": "32ff8f2c",
      "metadata": {
        "colab": {
          "base_uri": "https://localhost:8080/"
        },
        "id": "32ff8f2c",
        "outputId": "726652e2-02d6-414f-b73d-69c04fb37355"
      },
      "outputs": [
        {
          "output_type": "stream",
          "name": "stdout",
          "text": [
            "              precision    recall  f1-score   support\n",
            "\n",
            "           0       0.41      0.49      0.44      4308\n",
            "           1       0.80      0.75      0.78     12170\n",
            "\n",
            "    accuracy                           0.68     16478\n",
            "   macro avg       0.61      0.62      0.61     16478\n",
            "weighted avg       0.70      0.68      0.69     16478\n",
            "\n"
          ]
        }
      ],
      "source": [
        "#initialise base classifier then fit resampled data into it\n",
        "model=DecisionTreeClassifier(criterion=\"gini\",max_depth=5, random_state = 42)\n",
        "model.fit(x_resampled,y_resampled)\n",
        "y_pred=model.predict(x_test)\n",
        "\n",
        "report = classification_report(y_test, y_pred)\n",
        "\n",
        "#Get model performance\n",
        "print(report)"
      ]
    },
    {
      "cell_type": "markdown",
      "id": "6197cfaa",
      "metadata": {
        "id": "6197cfaa"
      },
      "source": [
        "ENN"
      ]
    },
    {
      "cell_type": "code",
      "execution_count": 15,
      "id": "98ac4f10",
      "metadata": {
        "colab": {
          "base_uri": "https://localhost:8080/"
        },
        "id": "98ac4f10",
        "outputId": "11069acb-2c1c-4939-e4ad-27cfa7e81672"
      },
      "outputs": [
        {
          "output_type": "stream",
          "name": "stdout",
          "text": [
            "Before resampling:  Counter({1: 48677, 0: 17234})\n",
            "After resampling:  Counter({1: 25614, 0: 17234})\n"
          ]
        }
      ],
      "source": [
        "#ENN\n",
        "y= df1[\"Loan Status\"]\n",
        "x = df1.drop([\"Loan Status\"],axis=1)\n",
        "# Split dataset into 80% train, 20% test\n",
        "x_train, x_test, y_train, y_test = train_test_split(x, y, test_size = 0.2, \n",
        "                                                          stratify = y, random_state = 42)\n",
        "\n",
        "#Standardising with Robust Scaler-- robust to outliers\n",
        "ro_scaler = RobustScaler()\n",
        "x_train = ro_scaler.fit_transform(x_train)\n",
        "x_test = ro_scaler.transform(x_test)\n",
        "\n",
        "print(\"Before resampling: \", Counter(y_train))\n",
        "\n",
        "enn = EditedNearestNeighbours()\n",
        "\n",
        "x_resampled, y_resampled = enn.fit_resample(x_train, y_train)\n",
        "\n",
        "print(\"After resampling: \", Counter(y_resampled))\n"
      ]
    },
    {
      "cell_type": "code",
      "execution_count": 16,
      "id": "c769202f",
      "metadata": {
        "colab": {
          "base_uri": "https://localhost:8080/"
        },
        "id": "c769202f",
        "outputId": "9a3bfc82-0f92-4d9b-c0d3-d987c073aae7"
      },
      "outputs": [
        {
          "output_type": "stream",
          "name": "stdout",
          "text": [
            "              precision    recall  f1-score   support\n",
            "\n",
            "           0       0.57      0.34      0.42      4308\n",
            "           1       0.79      0.91      0.85     12170\n",
            "\n",
            "    accuracy                           0.76     16478\n",
            "   macro avg       0.68      0.62      0.64     16478\n",
            "weighted avg       0.74      0.76      0.74     16478\n",
            "\n"
          ]
        }
      ],
      "source": [
        "#initialise base classifier then fit resampled data into it\n",
        "model=DecisionTreeClassifier(criterion=\"gini\",max_depth=5, random_state = 42)\n",
        "model.fit(x_resampled,y_resampled)\n",
        "y_pred=model.predict(x_test)\n",
        "\n",
        "report = classification_report(y_test, y_pred)\n",
        "\n",
        "#Get model performance\n",
        "print(report)"
      ]
    },
    {
      "cell_type": "markdown",
      "id": "c3b6f8a5",
      "metadata": {
        "id": "c3b6f8a5"
      },
      "source": [
        "SMOTEENN"
      ]
    },
    {
      "cell_type": "code",
      "execution_count": 17,
      "id": "31a8165c",
      "metadata": {
        "colab": {
          "base_uri": "https://localhost:8080/"
        },
        "id": "31a8165c",
        "outputId": "06a97e35-4d97-4a2d-adcb-182909720906"
      },
      "outputs": [
        {
          "output_type": "stream",
          "name": "stdout",
          "text": [
            "Before resampling:  Counter({1: 48677, 0: 17234})\n",
            "After resampling:  Counter({0: 34360, 1: 22623})\n"
          ]
        }
      ],
      "source": [
        "#SMOTENN\n",
        "y= df1[\"Loan Status\"]\n",
        "x = df1.drop([\"Loan Status\"],axis=1)\n",
        "# Split dataset into 80% train, 20% test\n",
        "x_train, x_test, y_train, y_test = train_test_split(x, y, test_size = 0.2, \n",
        "                                                          stratify = y, random_state = 42)\n",
        "\n",
        "#Standardising with Robust Scaler-- robust to outliers\n",
        "ro_scaler = RobustScaler()\n",
        "x_train = ro_scaler.fit_transform(x_train)\n",
        "x_test = ro_scaler.transform(x_test)\n",
        "\n",
        "print(\"Before resampling: \", Counter(y_train))\n",
        "\n",
        "smote_enn = SMOTEENN(random_state = 42)\n",
        "\n",
        "x_resampled, y_resampled = smote_enn.fit_resample(x_train, y_train)\n",
        "\n",
        "print(\"After resampling: \", Counter(y_resampled))\n"
      ]
    },
    {
      "cell_type": "code",
      "execution_count": 18,
      "id": "e493e17e",
      "metadata": {
        "colab": {
          "base_uri": "https://localhost:8080/"
        },
        "id": "e493e17e",
        "outputId": "d5d6cd51-9dcf-42f8-adfb-a62d52594995"
      },
      "outputs": [
        {
          "output_type": "stream",
          "name": "stdout",
          "text": [
            "              precision    recall  f1-score   support\n",
            "\n",
            "           0       0.32      0.74      0.45      4308\n",
            "           1       0.83      0.44      0.58     12170\n",
            "\n",
            "    accuracy                           0.52     16478\n",
            "   macro avg       0.57      0.59      0.51     16478\n",
            "weighted avg       0.69      0.52      0.54     16478\n",
            "\n"
          ]
        }
      ],
      "source": [
        "#initialise base classifier then fit resampled data into it\n",
        "model=DecisionTreeClassifier(criterion=\"gini\",max_depth=5, random_state = 42)\n",
        "model.fit(x_resampled,y_resampled)\n",
        "y_pred=model.predict(x_test)\n",
        "\n",
        "report = classification_report(y_test, y_pred)\n",
        "\n",
        "#Get model performance\n",
        "print(report)"
      ]
    },
    {
      "cell_type": "markdown",
      "id": "3b06ee07",
      "metadata": {
        "id": "3b06ee07"
      },
      "source": [
        "SmoteTomek"
      ]
    },
    {
      "cell_type": "code",
      "execution_count": 19,
      "id": "4a425754",
      "metadata": {
        "colab": {
          "base_uri": "https://localhost:8080/"
        },
        "id": "4a425754",
        "outputId": "4dadd6f6-8351-4436-91c1-208749e26a65"
      },
      "outputs": [
        {
          "output_type": "stream",
          "name": "stdout",
          "text": [
            "Before resampling:  Counter({1: 48677, 0: 17234})\n",
            "After resampling:  Counter({1: 47320, 0: 47320})\n"
          ]
        }
      ],
      "source": [
        "#SMOTETomek\n",
        "\n",
        "y= df1[\"Loan Status\"]\n",
        "x = df1.drop([\"Loan Status\"],axis=1)\n",
        "# Split dataset into 80% train, 20% test\n",
        "x_train, x_test, y_train, y_test = train_test_split(x, y, test_size = 0.2, \n",
        "                                                          stratify = y, random_state = 42)\n",
        "\n",
        "#Standardising with Robust Scaler-- robust to outliers\n",
        "ro_scaler = RobustScaler()\n",
        "x_train = ro_scaler.fit_transform(x_train)\n",
        "x_test = ro_scaler.transform(x_test)\n",
        "\n",
        "print(\"Before resampling: \", Counter(y_train))\n",
        "\n",
        "smote_tomek = SMOTETomek(random_state = 42)\n",
        "\n",
        "x_resampled, y_resampled = smote_tomek.fit_resample(x_train, y_train)\n",
        "\n",
        "print(\"After resampling: \", Counter(y_resampled))\n"
      ]
    },
    {
      "cell_type": "code",
      "execution_count": 20,
      "id": "c1b7572d",
      "metadata": {
        "colab": {
          "base_uri": "https://localhost:8080/"
        },
        "id": "c1b7572d",
        "outputId": "b8a1be3b-4a6c-4890-e77b-519736813459"
      },
      "outputs": [
        {
          "output_type": "stream",
          "name": "stdout",
          "text": [
            "              precision    recall  f1-score   support\n",
            "\n",
            "           0       0.54      0.35      0.43      4308\n",
            "           1       0.80      0.89      0.84     12170\n",
            "\n",
            "    accuracy                           0.75     16478\n",
            "   macro avg       0.67      0.62      0.63     16478\n",
            "weighted avg       0.73      0.75      0.73     16478\n",
            "\n"
          ]
        }
      ],
      "source": [
        "#initialise base classifier then fit resampled data into it\n",
        "model=DecisionTreeClassifier(criterion=\"gini\",max_depth=5, random_state = 42)\n",
        "model.fit(x_resampled,y_resampled)\n",
        "y_pred=model.predict(x_test)\n",
        "\n",
        "report = classification_report(y_test, y_pred)\n",
        "\n",
        "#Get model performance\n",
        "print(report)"
      ]
    },
    {
      "cell_type": "markdown",
      "id": "5966d603",
      "metadata": {
        "id": "5966d603"
      },
      "source": [
        "### Part 2- Adaboost\n",
        "\n",
        "Applying adaptive boosting on the model."
      ]
    },
    {
      "cell_type": "code",
      "execution_count": 21,
      "id": "13a77136",
      "metadata": {
        "colab": {
          "base_uri": "https://localhost:8080/"
        },
        "id": "13a77136",
        "outputId": "ededfc72-e741-4964-9963-d26332f5d89d"
      },
      "outputs": [
        {
          "output_type": "execute_result",
          "data": {
            "text/plain": [
              "DecisionTreeClassifier(max_depth=5, random_state=42)"
            ]
          },
          "metadata": {},
          "execution_count": 21
        }
      ],
      "source": [
        "#Initialise the base classifier\n",
        "## ENN for class imbalance handling\n",
        "\n",
        "y= df1[\"Loan Status\"]\n",
        "x = df1.drop([\"Loan Status\"],axis=1)\n",
        "# Split dataset into 80% train, 20% test\n",
        "x_train, x_test, y_train, y_test = train_test_split(x, y, test_size = 0.2, \n",
        "                                                          stratify = y, random_state = 42)\n",
        "#Standardising with Robust Scaler-- robust to outliers\n",
        "ro_scaler = RobustScaler()\n",
        "x_train = ro_scaler.fit_transform(x_train)\n",
        "x_test = ro_scaler.transform(x_test)\n",
        "\n",
        "enn = EditedNearestNeighbours()\n",
        "x_resampled, y_resampled = enn.fit_resample(x_train, y_train)\n",
        "\n",
        "#initialise base classifier then fit resampled data into it\n",
        "model=DecisionTreeClassifier(criterion=\"gini\",max_depth=5, random_state = 42)\n",
        "model.fit(x_resampled,y_resampled)\n"
      ]
    },
    {
      "cell_type": "code",
      "execution_count": 22,
      "id": "7fee9e19",
      "metadata": {
        "colab": {
          "base_uri": "https://localhost:8080/"
        },
        "id": "7fee9e19",
        "outputId": "33a0e749-0e30-496f-bab1-8a2561da5418"
      },
      "outputs": [
        {
          "output_type": "stream",
          "name": "stdout",
          "text": [
            "              precision    recall  f1-score   support\n",
            "\n",
            "           0       0.48      0.43      0.45      4308\n",
            "           1       0.81      0.83      0.82     12170\n",
            "\n",
            "    accuracy                           0.73     16478\n",
            "   macro avg       0.64      0.63      0.64     16478\n",
            "weighted avg       0.72      0.73      0.72     16478\n",
            "\n"
          ]
        }
      ],
      "source": [
        "#Adaboost the above model\n",
        "adaboosted_model = AdaBoostClassifier(base_estimator= model, algorithm='SAMME', random_state= 42)\n",
        "adaboosted_model.fit(x_resampled, y_resampled)\n",
        "y_pred = adaboosted_model.predict(x_test)\n",
        "\n",
        "report=classification_report(y_test, y_pred)\n",
        "print(report)"
      ]
    },
    {
      "cell_type": "markdown",
      "id": "f3dfe901",
      "metadata": {
        "id": "f3dfe901"
      },
      "source": [
        "### Part 3 - Hyperparameter tuning\n",
        "Tuning booosted model's hyperparameters."
      ]
    },
    {
      "cell_type": "code",
      "execution_count": 23,
      "id": "b5e7f03e",
      "metadata": {
        "colab": {
          "base_uri": "https://localhost:8080/"
        },
        "id": "b5e7f03e",
        "outputId": "ee2fcaa7-09f3-49c6-d0c5-dc56e7e4174e"
      },
      "outputs": [
        {
          "output_type": "stream",
          "name": "stdout",
          "text": [
            "Fitting 10 folds for each of 72 candidates, totalling 720 fits\n",
            "Best Paramters :  {'learning_rate': 0.1, 'n_estimators': 40}\n"
          ]
        }
      ],
      "source": [
        "#Tune the adaboosted model\n",
        "parameters = {'n_estimators' : [5, 10, 15, 20,25, 30, 35, 40, 45, 50, 55, 60],\n",
        "              'learning_rate': [0.0001, 0.001, 0.01, 0.1, 0.5, 1]\n",
        "              }\n",
        "\n",
        "grid_search = GridSearchCV( estimator= adaboosted_model,\n",
        "                     param_grid = parameters,\n",
        "                     scoring = \"f1\",\n",
        "                     cv = 10,\n",
        "                     n_jobs = -1,\n",
        "                     verbose = 20)\n",
        "\n",
        "grid_search= grid_search.fit(x_resampled, y_resampled)\n",
        "best_parameters = grid_search.best_params_\n",
        "\n",
        "print(\"Best Paramters : \", best_parameters)"
      ]
    },
    {
      "cell_type": "code",
      "execution_count": 25,
      "id": "5182df5f",
      "metadata": {
        "colab": {
          "base_uri": "https://localhost:8080/"
        },
        "id": "5182df5f",
        "outputId": "ff0fd2ac-62d9-455c-8b45-8161693abb59"
      },
      "outputs": [
        {
          "output_type": "stream",
          "name": "stdout",
          "text": [
            "              precision    recall  f1-score   support\n",
            "\n",
            "           0       0.47      0.47      0.47      4308\n",
            "           1       0.81      0.81      0.81     12170\n",
            "\n",
            "    accuracy                           0.72     16478\n",
            "   macro avg       0.64      0.64      0.64     16478\n",
            "weighted avg       0.72      0.72      0.72     16478\n",
            "\n"
          ]
        }
      ],
      "source": [
        "#Fitting hyperparameters onto adaboosted model\n",
        "adaboosted_model_2 = AdaBoostClassifier(base_estimator= adaboosted_model, learning_rate= 0.1, n_estimators= 40, algorithm='SAMME', random_state= 42)\n",
        "adaboosted_model_2.fit(x_resampled, y_resampled)\n",
        "y_pred = adaboosted_model_2.predict(x_test)\n",
        "\n",
        "report=classification_report(y_test, y_pred)\n",
        "print(report)"
      ]
    }
  ],
  "metadata": {
    "kernelspec": {
      "display_name": "Python 3 (ipykernel)",
      "language": "python",
      "name": "python3"
    },
    "language_info": {
      "codemirror_mode": {
        "name": "ipython",
        "version": 3
      },
      "file_extension": ".py",
      "mimetype": "text/x-python",
      "name": "python",
      "nbconvert_exporter": "python",
      "pygments_lexer": "ipython3",
      "version": "3.9.9"
    },
    "colab": {
      "provenance": []
    },
    "accelerator": "GPU",
    "gpuClass": "standard"
  },
  "nbformat": 4,
  "nbformat_minor": 5
}